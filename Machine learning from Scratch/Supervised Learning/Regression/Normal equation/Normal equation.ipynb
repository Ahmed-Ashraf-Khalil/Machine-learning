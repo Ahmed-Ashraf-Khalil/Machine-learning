{
 "cells": [
  {
   "cell_type": "code",
   "execution_count": 12,
   "metadata": {},
   "outputs": [],
   "source": [
    "#importing libraries\n",
    "\n",
    "import numpy as np\n",
    "import pandas as pd\n",
    "import matplotlib.pyplot as plt\n",
    "%matplotlib inline "
   ]
  },
  {
   "cell_type": "code",
   "execution_count": 13,
   "metadata": {},
   "outputs": [
    {
     "data": {
      "text/plain": [
       "array([[ 101.1101 , 1017.592  ],\n",
       "       [ 100.5277 , 1009.1302 ],\n",
       "       [ 103.5186 , 1013.662  ],\n",
       "       [ 102.0032 , 1011.854  ],\n",
       "       [ 100.8598 , 1006.8233 ],\n",
       "       [ 103.3829 , 1011.886  ],\n",
       "       [ 102.4764 , 1004.3483 ],\n",
       "       [ 103.5781 , 1012.     ],\n",
       "       [ 101.4862 , 1006.5987 ],\n",
       "       [ 100.0546 , 1003.8166 ],\n",
       "       [ 100.7107 , 1003.2522 ],\n",
       "       [ 109.164  , 1015.505  ],\n",
       "       [ 100.734  , 1003.1551 ],\n",
       "       [ 103.4084 , 1007.2258 ],\n",
       "       [ 100.6407 , 1000.71618],\n",
       "       [ 100.3794 , 1003.5129 ],\n",
       "       [ 101.3654 , 1005.3048 ],\n",
       "       [ 100.1301 , 1000.56077],\n",
       "       [ 101.4296 , 1003.6518 ],\n",
       "       [ 102.0708 , 1005.3893 ],\n",
       "       [ 101.1891 , 1003.1386 ],\n",
       "       [ 115.27   , 1021.767  ],\n",
       "       [ 100.4901 , 1004.263  ],\n",
       "       [ 101.3261 , 1005.1875 ],\n",
       "       [ 100.5649 , 1003.0825 ],\n",
       "       [ 113.945  , 1022.638  ],\n",
       "       [ 107.828  , 1013.501  ],\n",
       "       [ 105.957  , 1007.0467 ],\n",
       "       [ 108.176  , 1014.692  ],\n",
       "       [ 117.203  , 1024.147  ],\n",
       "       [ 100.2524 ,  998.78   ],\n",
       "       [ 101.5894 , 1005.9966 ],\n",
       "       [ 104.2482 , 1012.134  ],\n",
       "       [ 100.8918 , 1001.8495 ],\n",
       "       [ 103.2111 , 1006.5426 ],\n",
       "       [ 102.9334 , 1004.5623 ],\n",
       "       [ 103.0959 , 1004.1164 ],\n",
       "       [ 100.6063 , 1003.3928 ],\n",
       "       [ 107.836  , 1010.117  ],\n",
       "       [ 101.3534 , 1005.4974 ],\n",
       "       [ 100.4069 , 1000.55657],\n",
       "       [ 101.8825 , 1003.9115 ],\n",
       "       [ 106.708  , 1005.3854 ],\n",
       "       [ 100.7737 , 1002.4406 ],\n",
       "       [ 102.8247 , 1006.7318 ],\n",
       "       [ 102.0931 , 1001.0463 ],\n",
       "       [ 100.0702 , 1005.1337 ],\n",
       "       [ 100.8014 , 1001.844  ],\n",
       "       [ 106.7    , 1008.0043 ],\n",
       "       [ 100.5416 , 1001.0179 ],\n",
       "       [ 102.5402 , 1006.7504 ],\n",
       "       [ 100.3077 , 1001.8396 ],\n",
       "       [ 102.4239 , 1004.2885 ],\n",
       "       [ 102.6031 , 1004.9981 ],\n",
       "       [ 101.3328 , 1001.4233 ],\n",
       "       [ 101.3589 ,  998.5789 ],\n",
       "       [ 101.2742 , 1002.4756 ],\n",
       "       [ 100.6397 , 1004.6042 ],\n",
       "       [ 104.3102 , 1003.9624 ],\n",
       "       [ 104.4536 , 1005.4141 ],\n",
       "       [ 103.8254 , 1005.1694 ],\n",
       "       [ 100.1793 ,  999.25721],\n",
       "       [ 116.279  , 1017.929  ],\n",
       "       [ 109.908  , 1012.054  ],\n",
       "       [ 113.959  , 1017.054  ],\n",
       "       [ 102.2182 , 1004.8852 ],\n",
       "       [ 103.2951 , 1005.7442 ],\n",
       "       [ 105.236  , 1007.7754 ],\n",
       "       [ 100.4994 , 1001.0173 ],\n",
       "       [ 115.341  , 1020.992  ],\n",
       "       [ 105.136  , 1006.6799 ],\n",
       "       [ 102.3345 , 1004.0259 ],\n",
       "       [ 101.0062 , 1001.2784 ],\n",
       "       [ 102.2259 , 1003.3411 ],\n",
       "       [ 100.0269 ,  997.3193 ],\n",
       "       [ 101.5479 , 1000.29678],\n",
       "       [ 102.5386 , 1003.8845 ],\n",
       "       [ 100.0365 , 1005.7014 ],\n",
       "       [ 105.274  , 1006.7526 ],\n",
       "       [ 100.1077 , 1002.0576 ],\n",
       "       [ 100.7292 , 1000.47953],\n",
       "       [ 100.1884 , 1000.20421],\n",
       "       [ 101.3557 , 1000.67861],\n",
       "       [ 104.7687 , 1007.5435 ],\n",
       "       [ 101.5159 , 1005.3436 ],\n",
       "       [ 103.5172 , 1004.2415 ],\n",
       "       [ 104.1802 , 1006.7981 ],\n",
       "       [ 101.002  , 1000.92695],\n",
       "       [ 100.5204 , 1000.152  ],\n",
       "       [ 100.0594 , 1002.8214 ],\n",
       "       [ 100.7077 , 1001.8451 ],\n",
       "       [ 102.6366 , 1004.2959 ],\n",
       "       [ 100.8707 , 1007.2029 ],\n",
       "       [ 100.3054 , 1001.9869 ],\n",
       "       [ 103.2934 , 1000.14454],\n",
       "       [ 108.394  , 1009.0551 ],\n",
       "       [ 100.4369 , 1000.61705]])"
      ]
     },
     "execution_count": 13,
     "metadata": {},
     "output_type": "execute_result"
    }
   ],
   "source": [
    "#importing data\n",
    "\n",
    "my_data = np.genfromtxt(r'Houses_Prices.csv', delimiter=',')\n",
    "m = len(my_data)\n",
    "\n",
    "my_data"
   ]
  },
  {
   "cell_type": "code",
   "execution_count": 14,
   "metadata": {},
   "outputs": [
    {
     "data": {
      "text/plain": [
       "(97, 1)"
      ]
     },
     "execution_count": 14,
     "metadata": {},
     "output_type": "execute_result"
    }
   ],
   "source": [
    "# Slicing and reshape\n",
    "\n",
    "X = np.array(my_data[:,0])\n",
    "X = X.reshape(X.shape[0],1)\n",
    "X.shape\n"
   ]
  },
  {
   "cell_type": "code",
   "execution_count": 15,
   "metadata": {},
   "outputs": [
    {
     "data": {
      "text/plain": [
       "(97, 1)"
      ]
     },
     "execution_count": 15,
     "metadata": {},
     "output_type": "execute_result"
    }
   ],
   "source": [
    "Y = np.array(my_data[:,1])\n",
    "Y = Y.reshape(Y.shape[0],1)\n",
    "Y.shape"
   ]
  },
  {
   "cell_type": "code",
   "execution_count": 16,
   "metadata": {},
   "outputs": [
    {
     "data": {
      "image/png": "[encoded data removed]",
      "text/plain": [
       "<Figure size 432x288 with 1 Axes>"
      ]
     },
     "metadata": {
      "needs_background": "light"
     },
     "output_type": "display_data"
    }
   ],
   "source": [
    "# Ploting data\n",
    "\n",
    "plt.plot(X, Y,'ro')\n",
    "plt.title(\"Data\")\n",
    "plt.xlabel('Houses Size')\n",
    "plt.ylabel('Price')"
   ]
  },
  {
   "cell_type": "code",
   "execution_count": 17,
   "metadata": {},
   "outputs": [],
   "source": [
    "from scipy import linalg\n",
    "\n",
    "def normal_equation(X,Y):\n",
    "  X = np.append(np.ones((X.shape[0],1)), X.reshape((X.shape[0],1)), axis = 1)\n",
    "  return ( linalg.inv((X.T).dot(X)).dot((X.T).dot(Y)) ) "
   ]
  },
  {
   "cell_type": "code",
   "execution_count": 18,
   "metadata": {},
   "outputs": [],
   "source": [
    "def cost_function(X, Theta, Y):\n",
    "  return (1/(2*m)) * np.sum( np.square(Y - predictions(X, Theta)) )"
   ]
  },
  {
   "cell_type": "code",
   "execution_count": 19,
   "metadata": {},
   "outputs": [],
   "source": [
    "def predictions(X, Theta): \n",
    "  X = np.append(np.ones((X.shape[0],1)), X.reshape((X.shape[0],1)), axis = 1) # (97, 2)\n",
    "  Theta = Theta.reshape(2,1)  # (2, 1)\n",
    "  return X.dot(Theta)  # (97, 2) dot (2, 1) = (97, 1)"
   ]
  },
  {
   "cell_type": "code",
   "execution_count": 20,
   "metadata": {},
   "outputs": [
    {
     "name": "stdout",
     "output_type": "stream",
     "text": [
      "[[882.76602292]\n",
      " [  1.19303364]]\n",
      "4.476971375975183\n"
     ]
    }
   ],
   "source": [
    "Theta = normal_equation(X,Y).reshape(2,1)\n",
    "P = predictions(X, Theta)\n",
    "Cost = cost_function(X, Theta, Y)\n",
    "\n",
    "print(Theta)\n",
    "print(Cost)"
   ]
  },
  {
   "cell_type": "code",
   "execution_count": 21,
   "metadata": {},
   "outputs": [
    {
     "data": {
      "image/png": "[encoded data removed]",
      "text/plain": [
       "<Figure size 432x288 with 1 Axes>"
      ]
     },
     "metadata": {
      "needs_background": "light"
     },
     "output_type": "display_data"
    }
   ],
   "source": [
    "plt.plot(X, Y, 'ro')\n",
    "plt.title(\"Data\")\n",
    "plt.xlabel('Houses Size')\n",
    "plt.ylabel('Price')\n",
    "plt.plot(X, P, '-');"
   ]
  },
  {
   "cell_type": "code",
   "execution_count": null,
   "metadata": {},
   "outputs": [],
   "source": []
  }
 ],
 "metadata": {
  "kernelspec": {
   "display_name": "Python 3",
   "language": "python",
   "name": "python3"
  },
  "language_info": {
   "codemirror_mode": {
    "name": "ipython",
    "version": 3
   },
   "file_extension": ".py",
   "mimetype": "text/x-python",
   "name": "python",
   "nbconvert_exporter": "python",
   "pygments_lexer": "ipython3",
   "version": "3.6.5"
  }
 },
 "nbformat": 4,
 "nbformat_minor": 4
}
