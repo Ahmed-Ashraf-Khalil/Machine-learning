{
 "cells": [
  {
   "cell_type": "markdown",
   "metadata": {},
   "source": [
    "# Clustering Using K-Means:"
   ]
  },
  {
   "cell_type": "code",
   "execution_count": 1,
   "metadata": {},
   "outputs": [],
   "source": [
    "import numpy as np\n",
    "import pandas as pd \n",
    "import matplotlib.pyplot as plt\n",
    "%matplotlib inline"
   ]
  },
  {
   "cell_type": "code",
   "execution_count": 2,
   "metadata": {},
   "outputs": [
    {
     "data": {
      "text/html": [
       "<div>\n",
       "<style scoped>\n",
       "    .dataframe tbody tr th:only-of-type {\n",
       "        vertical-align: middle;\n",
       "    }\n",
       "\n",
       "    .dataframe tbody tr th {\n",
       "        vertical-align: top;\n",
       "    }\n",
       "\n",
       "    .dataframe thead th {\n",
       "        text-align: right;\n",
       "    }\n",
       "</style>\n",
       "<table border=\"1\" class=\"dataframe\">\n",
       "  <thead>\n",
       "    <tr style=\"text-align: right;\">\n",
       "      <th></th>\n",
       "      <th>Lenght</th>\n",
       "      <th>Width</th>\n",
       "    </tr>\n",
       "  </thead>\n",
       "  <tbody>\n",
       "    <tr>\n",
       "      <th>0</th>\n",
       "      <td>68.970904</td>\n",
       "      <td>35.895131</td>\n",
       "    </tr>\n",
       "    <tr>\n",
       "      <th>1</th>\n",
       "      <td>65.648142</td>\n",
       "      <td>33.547547</td>\n",
       "    </tr>\n",
       "    <tr>\n",
       "      <th>2</th>\n",
       "      <td>56.521632</td>\n",
       "      <td>30.924471</td>\n",
       "    </tr>\n",
       "    <tr>\n",
       "      <th>3</th>\n",
       "      <td>64.298420</td>\n",
       "      <td>36.877395</td>\n",
       "    </tr>\n",
       "    <tr>\n",
       "      <th>4</th>\n",
       "      <td>56.420191</td>\n",
       "      <td>31.429438</td>\n",
       "    </tr>\n",
       "  </tbody>\n",
       "</table>\n",
       "</div>"
      ],
      "text/plain": [
       "      Lenght      Width\n",
       "0  68.970904  35.895131\n",
       "1  65.648142  33.547547\n",
       "2  56.521632  30.924471\n",
       "3  64.298420  36.877395\n",
       "4  56.420191  31.429438"
      ]
     },
     "execution_count": 2,
     "metadata": {},
     "output_type": "execute_result"
    }
   ],
   "source": [
    "X = np.genfromtxt(r'Tshirts Dataset.csv', delimiter=',')\n",
    "df = pd.DataFrame(X,columns=['Lenght',\"Width\"])\n",
    "df.head()"
   ]
  },
  {
   "cell_type": "code",
   "execution_count": 3,
   "metadata": {},
   "outputs": [],
   "source": [
    "K = 3                # number of cluster centroids\n",
    "iterations = 1000    #number of iterations"
   ]
  },
  {
   "cell_type": "code",
   "execution_count": 4,
   "metadata": {},
   "outputs": [
    {
     "data": {
      "text/plain": [
       "Text(0, 0.5, 'Width')"
      ]
     },
     "execution_count": 4,
     "metadata": {},
     "output_type": "execute_result"
    },
    {
     "data": {
      "image/png": "[encoded data removed]",
      "text/plain": [
       "<Figure size 432x288 with 1 Axes>"
      ]
     },
     "metadata": {
      "needs_background": "light"
     },
     "output_type": "display_data"
    }
   ],
   "source": [
    "plt.scatter(df[\"Lenght\"],df[\"Width\"],c=\"green\")\n",
    "plt.title(\"Data\")\n",
    "plt.xlabel(\"Lenght\")\n",
    "plt.ylabel(\"Width\")"
   ]
  },
  {
   "cell_type": "markdown",
   "metadata": {},
   "source": [
    "## 1.1 - Initialize Centroids"
   ]
  },
  {
   "cell_type": "code",
   "execution_count": 5,
   "metadata": {},
   "outputs": [],
   "source": [
    "def Init_Centroids(X, K):\n",
    "    m, n = X.shape\n",
    "    \n",
    "    # You should return this values correctly\n",
    "    Centroids = np.zeros((K, n))\n",
    "\n",
    "    \n",
    "    randidx = np.random.permutation(X.shape[0])\n",
    "    # Take the first K examples as centroids\n",
    "    Centroids = X[randidx[:K], :]\n",
    "    \n",
    "    return Centroids"
   ]
  },
  {
   "cell_type": "markdown",
   "metadata": {},
   "source": [
    "## 1.2 - Calculate Euclidean Distance\n",
    "Euclidean Distance is a method to calculate distance between two points ( P and Q )using the Following equation \n",
    "$$ d\\left( P,Q\\right)   = \\sqrt {\\left( Q_{0}-P_{0}\\right)^2 + \\left  ( Q_{1}-P_{1}\\right)^2} $$"
   ]
  },
  {
   "cell_type": "code",
   "execution_count": 6,
   "metadata": {},
   "outputs": [],
   "source": [
    "def Calculate_Distance(P,Q):\n",
    "    # P and Q are two points each one of them contains 2 variables Ex. P[0] = Length, P[1] Width, of point P\n",
    "    \n",
    "    Distance = 0\n",
    "    \n",
    "    Distance = np.sqrt( (P[0]-Q[0])**2 + (P[1]-Q[1])**2 )\n",
    "    \n",
    "    return Distance"
   ]
  },
  {
   "cell_type": "markdown",
   "metadata": {},
   "source": [
    "## 1.3 - Get Examples Centroids\n",
    "in this section we need to get the nearest centroid to each training example $x^{(i)}$ Given the list of centroids positions.\n",
    "\n",
    "Your task is to complete the code in the function `GetExamplesCentroids`. This function takes the data matrix `X` and the locations of the centroids inside `Centroids` and should output a one-dimensional array `ExamplesCentroids` that holds the index (a value in $\\{1, ..., K\\}$, where $K$ is total number of centroids) of the closest centroid to every training example.\n",
    "Also be noted that the function should get each example nearest Centroid **According To the Euclidean Distance**"
   ]
  },
  {
   "cell_type": "code",
   "execution_count": 7,
   "metadata": {},
   "outputs": [],
   "source": [
    "def AssignItemCentroid(X, Centroids):\n",
    "    \n",
    "    ExamplesCentroids = np.zeros(X.shape[0], dtype=int)\n",
    "  \n",
    "    for i in range(len(X)):\n",
    "      selected_cluster = -1\n",
    "      least_distance = 100000000\n",
    "      for j in range(len(Centroids)):\n",
    "        if Calculate_Distance(X[i], Centroids[j]) < least_distance:\n",
    "          least_distance = Calculate_Distance(X[i], Centroids[j])\n",
    "          selected_cluster = j\n",
    "      ExamplesCentroids[i] = selected_cluster    \n",
    "\n",
    "   \n",
    "    return ExamplesCentroids"
   ]
  },
  {
   "cell_type": "markdown",
   "metadata": {},
   "source": [
    "## 1.4 - Computing centroid means\n",
    "\n",
    "Given each example nearest centroid, next we should recalculatee each centroid according to the mean of the points that were assigned to it. for every centroid $k$ we set\n",
    "\n",
    "$$ mean_k := \\frac{1}{S_k} \\sum_{i \\in S_k} x^{(i)}$$\n",
    "\n",
    "where $S_k$ is the number of examples assigned to the current centroid $k$, if two examples say $x^{(3)}$ and $x^{(5)}$ are assigned to centroid $k = 2$, then you should update $\\mu_2 = \\frac{1}{2} \\left( x^{(3)} + x^{(5)} \\right)$.\n",
    "\n",
    "You should now complete the code in the function `computeCentroids`. You can implement this function using a loop over the centroids. You can also use a loop over the examples; but if you can use a vectorized implementation that does not use such a loop, your code may run faster."
   ]
  },
  {
   "cell_type": "code",
   "execution_count": 8,
   "metadata": {},
   "outputs": [],
   "source": [
    "def computeCentroidsMeans(X, ExamplesCentroids, K):\n",
    "    m, n = X.shape\n",
    "    Centroids = np.zeros((K, n))\n",
    "    \n",
    "   \n",
    "    for i in range(K):\n",
    "      sum = 0\n",
    "      counter = 0\n",
    "      for j in range(len(X)):\n",
    "        if ExamplesCentroids[j] == i:\n",
    "          sum += X[j]\n",
    "          counter += 1\n",
    "      Centroids[i] = sum / counter\n",
    "    \n",
    "    \n",
    "    return Centroids"
   ]
  },
  {
   "cell_type": "markdown",
   "metadata": {},
   "source": [
    "## 1.5 - Train K-Means\n",
    "The K-means algorithm steps is as follows:\n",
    "\n",
    "```python\n",
    "Centroids = Init_Centroids(X, K)\n",
    "for i in range(iterations):\n",
    "    # Get the Closet Centroid list that corresponds to each training example\n",
    "    ExamplesCentroids = GetExamplesCentroids(X, Centroids)\n",
    "    \n",
    "    # Change Centroid Position using Mean\n",
    "    Centroids = computeCentroidsMeans(X, ExamplesCentroids, K):\n",
    "```\n",
    "\n",
    "Then you may use the last Centroids values to get a cluster for any other input "
   ]
  },
  {
   "cell_type": "code",
   "execution_count": 9,
   "metadata": {},
   "outputs": [],
   "source": [
    "def Run_KMeans(iterations , K):\n",
    "    Centroids = None\n",
    "    ExamplesCentroids = None\n",
    "  \n",
    "    Centroids = Init_Centroids(X, K)\n",
    "    for i in range(iterations):\n",
    "      ExamplesCentroids = AssignItemCentroid(X, Centroids)\n",
    "      Centroids = computeCentroidsMeans(X, ExamplesCentroids, K)\n",
    "   \n",
    "    \n",
    "    return Centroids,ExamplesCentroids"
   ]
  },
  {
   "cell_type": "code",
   "execution_count": 10,
   "metadata": {},
   "outputs": [
    {
     "data": {
      "text/plain": [
       "Text(0, 0.5, 'Width')"
      ]
     },
     "execution_count": 10,
     "metadata": {},
     "output_type": "execute_result"
    },
    {
     "data": {
      "image/png": "[encoded data removed]",
      "text/plain": [
       "<Figure size 432x432 with 1 Axes>"
      ]
     },
     "metadata": {
      "needs_background": "light"
     },
     "output_type": "display_data"
    }
   ],
   "source": [
    "\n",
    "_,ExamplesCentroids = Run_KMeans( iterations , K)\n",
    "\n",
    "fig = plt.figure(figsize=(6, 6))\n",
    "AllData = fig.add_subplot(111)\n",
    "AllData.scatter(X[:, 0], X[:, 1],c=ExamplesCentroids)\n",
    "plt.title(\"Data\")\n",
    "plt.xlabel('Length')\n",
    "plt.ylabel('Width')"
   ]
  },
  {
   "cell_type": "markdown",
   "metadata": {},
   "source": [
    "# Optimization \n",
    "\n"
   ]
  },
  {
   "cell_type": "markdown",
   "metadata": {},
   "source": [
    "## 2.1 cost function"
   ]
  },
  {
   "cell_type": "code",
   "execution_count": 12,
   "metadata": {},
   "outputs": [],
   "source": [
    "def cost_function(X, ExamplesCentroids, K , Centroids):\n",
    "    cost = 0\n",
    "    for i in range(K):\n",
    "      for j in range(len(X)):\n",
    "        if ExamplesCentroids[j] == i:\n",
    "          cost += (Calculate_Distance(X[j],Centroids[i]))**2\n",
    "    return cost"
   ]
  },
  {
   "cell_type": "markdown",
   "metadata": {},
   "source": [
    "## 2.2 Choosing number of cluster \n"
   ]
  },
  {
   "cell_type": "code",
   "execution_count": 13,
   "metadata": {},
   "outputs": [
    {
     "name": "stdout",
     "output_type": "stream",
     "text": [
      "100028.14551897897\n",
      "26187.318876637368\n",
      "12647.249030829626\n",
      "11250.48115007592\n",
      "9619.761219140451\n",
      "9007.453743459779\n",
      "7303.089675454638\n"
     ]
    }
   ],
   "source": [
    "for i in range(1 , 8):\n",
    "  Centroids,ExamplesCentroids = Run_KMeans(iterations , i)\n",
    "  cost= cost_function(X, ExamplesCentroids, i , Centroids)\n",
    "  print(cost)\n"
   ]
  },
  {
   "cell_type": "code",
   "execution_count": 14,
   "metadata": {},
   "outputs": [
    {
     "data": {
      "text/html": [
       "<div>\n",
       "<style scoped>\n",
       "    .dataframe tbody tr th:only-of-type {\n",
       "        vertical-align: middle;\n",
       "    }\n",
       "\n",
       "    .dataframe tbody tr th {\n",
       "        vertical-align: top;\n",
       "    }\n",
       "\n",
       "    .dataframe thead th {\n",
       "        text-align: right;\n",
       "    }\n",
       "</style>\n",
       "<table border=\"1\" class=\"dataframe\">\n",
       "  <thead>\n",
       "    <tr style=\"text-align: right;\">\n",
       "      <th></th>\n",
       "      <th>cluster_centroids_number</th>\n",
       "      <th>cost_values</th>\n",
       "    </tr>\n",
       "  </thead>\n",
       "  <tbody>\n",
       "    <tr>\n",
       "      <th>0</th>\n",
       "      <td>1</td>\n",
       "      <td>100028.145519</td>\n",
       "    </tr>\n",
       "    <tr>\n",
       "      <th>1</th>\n",
       "      <td>2</td>\n",
       "      <td>26187.318877</td>\n",
       "    </tr>\n",
       "    <tr>\n",
       "      <th>2</th>\n",
       "      <td>3</td>\n",
       "      <td>12647.249031</td>\n",
       "    </tr>\n",
       "    <tr>\n",
       "      <th>3</th>\n",
       "      <td>4</td>\n",
       "      <td>11250.481150</td>\n",
       "    </tr>\n",
       "    <tr>\n",
       "      <th>4</th>\n",
       "      <td>5</td>\n",
       "      <td>9619.761219</td>\n",
       "    </tr>\n",
       "  </tbody>\n",
       "</table>\n",
       "</div>"
      ],
      "text/plain": [
       "   cluster_centroids_number    cost_values\n",
       "0                         1  100028.145519\n",
       "1                         2   26187.318877\n",
       "2                         3   12647.249031\n",
       "3                         4   11250.481150\n",
       "4                         5    9619.761219"
      ]
     },
     "execution_count": 14,
     "metadata": {},
     "output_type": "execute_result"
    }
   ],
   "source": [
    "l=np.array([100028.14551897897,26187.318876637368,12647.249030829626,11250.48115007592,9619.761219140451,9007.453743459779,7303.089675454638])\n",
    "n=np.array([1,2,3,4,5,6,7])\n",
    "cost_data = pd.DataFrame(n,columns=[\"cluster_centroids_number\"])\n",
    "cost_data[\"cost_values\"] = l\n",
    "cost_data.to_csv('cost_func+centroid_number.csv') \n",
    "cost_data.head()"
   ]
  },
  {
   "cell_type": "code",
   "execution_count": 15,
   "metadata": {},
   "outputs": [
    {
     "data": {
      "image/png": "[encoded data removed]",
      "text/plain": [
       "<Figure size 432x288 with 1 Axes>"
      ]
     },
     "metadata": {
      "needs_background": "light"
     },
     "output_type": "display_data"
    }
   ],
   "source": [
    "#elbow rule\n",
    "plt.plot(cost_data[\"cluster_centroids_number\"],cost_data[\"cost_values\"]);"
   ]
  },
  {
   "cell_type": "code",
   "execution_count": null,
   "metadata": {},
   "outputs": [],
   "source": []
  }
 ],
 "metadata": {
  "kernelspec": {
   "display_name": "Python 3",
   "language": "python",
   "name": "python3"
  },
  "language_info": {
   "codemirror_mode": {
    "name": "ipython",
    "version": 3
   },
   "file_extension": ".py",
   "mimetype": "text/x-python",
   "name": "python",
   "nbconvert_exporter": "python",
   "pygments_lexer": "ipython3",
   "version": "3.6.5"
  }
 },
 "nbformat": 4,
 "nbformat_minor": 4
}
